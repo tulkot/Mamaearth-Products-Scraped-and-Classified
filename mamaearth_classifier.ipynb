{
 "cells": [
  {
   "cell_type": "markdown",
   "metadata": {},
   "source": [
    "# Product Classifier"
   ]
  },
  {
   "cell_type": "code",
   "execution_count": 1,
   "metadata": {},
   "outputs": [],
   "source": [
    "import logging\n",
    "import pandas as pd\n",
    "import numpy as np\n",
    "from numpy import random\n",
    "from sklearn.model_selection import train_test_split\n",
    "from sklearn.feature_extraction.text import CountVectorizer, TfidfVectorizer\n",
    "import matplotlib.pyplot as plt\n",
    "import re\n",
    "from bs4 import BeautifulSoup\n",
    "\n",
    "%matplotlib inline"
   ]
  },
  {
   "cell_type": "code",
   "execution_count": 2,
   "metadata": {},
   "outputs": [
    {
     "data": {
      "text/html": [
       "<div>\n",
       "<style scoped>\n",
       "    .dataframe tbody tr th:only-of-type {\n",
       "        vertical-align: middle;\n",
       "    }\n",
       "\n",
       "    .dataframe tbody tr th {\n",
       "        vertical-align: top;\n",
       "    }\n",
       "\n",
       "    .dataframe thead th {\n",
       "        text-align: right;\n",
       "    }\n",
       "</style>\n",
       "<table border=\"1\" class=\"dataframe\">\n",
       "  <thead>\n",
       "    <tr style=\"text-align: right;\">\n",
       "      <th></th>\n",
       "      <th>productName</th>\n",
       "      <th>productClass</th>\n",
       "    </tr>\n",
       "  </thead>\n",
       "  <tbody>\n",
       "    <tr>\n",
       "      <th>0</th>\n",
       "      <td>Tea Tree Facewash for acne &amp; pimples, 100ml</td>\n",
       "      <td>Face Wash</td>\n",
       "    </tr>\n",
       "    <tr>\n",
       "      <th>1</th>\n",
       "      <td>Anti Hair Fall Kit for complete hair care</td>\n",
       "      <td>Hair Combo</td>\n",
       "    </tr>\n",
       "    <tr>\n",
       "      <th>2</th>\n",
       "      <td>Argan Hair Mask with Argan, Avocado Oil, and M...</td>\n",
       "      <td>Hair Mask</td>\n",
       "    </tr>\n",
       "    <tr>\n",
       "      <th>3</th>\n",
       "      <td>Ubtan Bamboo Sheet Mask with Turmeric &amp; Saffro...</td>\n",
       "      <td>Face Mask</td>\n",
       "    </tr>\n",
       "    <tr>\n",
       "      <th>4</th>\n",
       "      <td>Niacinamide Bamboo Sheet Mask with Niacinamide...</td>\n",
       "      <td>Face Sheet Mask</td>\n",
       "    </tr>\n",
       "  </tbody>\n",
       "</table>\n",
       "</div>"
      ],
      "text/plain": [
       "                                         productName     productClass\n",
       "0        Tea Tree Facewash for acne & pimples, 100ml        Face Wash\n",
       "1          Anti Hair Fall Kit for complete hair care       Hair Combo\n",
       "2  Argan Hair Mask with Argan, Avocado Oil, and M...        Hair Mask\n",
       "3  Ubtan Bamboo Sheet Mask with Turmeric & Saffro...        Face Mask\n",
       "4  Niacinamide Bamboo Sheet Mask with Niacinamide...  Face Sheet Mask"
      ]
     },
     "execution_count": 2,
     "metadata": {},
     "output_type": "execute_result"
    }
   ],
   "source": [
    "df=pd.read_csv('product_classes.csv')\n",
    "df.head()"
   ]
  },
  {
   "cell_type": "code",
   "execution_count": 3,
   "metadata": {},
   "outputs": [
    {
     "data": {
      "image/png": "[encoded data removed]",
      "text/plain": [
       "<Figure size 720x288 with 1 Axes>"
      ]
     },
     "metadata": {
      "needs_background": "light"
     },
     "output_type": "display_data"
    }
   ],
   "source": [
    "classes=['Shampoo','Conditioner','Hair Oil','Hair Mask','Hair Serum','Face Wash','Face Mask','Face Cream','Face Serum','Face Scrub','Face Toner','Face Gel','Face Sheet Mask','Skin Combo','Face Combo','Hair Combo','Body Butter','Body Wash','Body Lotion','Body Scrub']\n",
    "plt.figure(figsize=(10,4))\n",
    "df.productClass.value_counts().plot(kind='bar');"
   ]
  },
  {
   "cell_type": "code",
   "execution_count": 4,
   "metadata": {},
   "outputs": [],
   "source": [
    "replace_by_space = re.compile('[/(){}\\[\\]\\|@,;]^0-9')\n",
    "bad_symbols = re.compile('[^a-z #+_]')\n",
    "#g = re.compile('^0-9\\sg\\s')\n",
    "ml = re.compile('ml')\n",
    "#STOPWORDS = set(stopwords.words('ml'))\n",
    "\n",
    "def clean_text(text):\n",
    "    \"\"\"\n",
    "        text: a string\n",
    "        \n",
    "        return: modified initial string\n",
    "    \"\"\"\n",
    "    text = BeautifulSoup(text, \"lxml\").text # HTML decoding\n",
    "    text = text.lower() # lowercase text\n",
    "    text = replace_by_space.sub(' ', text) # replace REPLACE_BY_SPACE_RE symbols by space in text\n",
    "    text = bad_symbols.sub('', text) # delete symbols which are in BAD_SYMBOLS_RE from text\n",
    "    text = ml.sub('',text)\n",
    "    #text = g.sub('',text)\n",
    "    #text = ' '.join(word for word in text.split() if word not in STOPWORDS) # delete stopwors from text\n",
    "    return text"
   ]
  },
  {
   "cell_type": "code",
   "execution_count": 5,
   "metadata": {},
   "outputs": [],
   "source": [
    "df['productName'] = df['productName'].apply(clean_text)"
   ]
  },
  {
   "cell_type": "code",
   "execution_count": 6,
   "metadata": {},
   "outputs": [],
   "source": [
    "def print_plot(index):\n",
    "    example = df[df.index == index][['productName', 'productClass']].values[0]\n",
    "    if len(example) > 0:\n",
    "        print(example[0])\n",
    "        print('Class:', example[1])"
   ]
  },
  {
   "cell_type": "code",
   "execution_count": 7,
   "metadata": {},
   "outputs": [
    {
     "name": "stdout",
     "output_type": "stream",
     "text": [
      "tea tree facewash for acne  pimples \n",
      "Class: Face Wash\n"
     ]
    }
   ],
   "source": [
    "print_plot(0)"
   ]
  },
  {
   "cell_type": "code",
   "execution_count": 8,
   "metadata": {},
   "outputs": [
    {
     "data": {
      "text/plain": [
       "3146"
      ]
     },
     "execution_count": 8,
     "metadata": {},
     "output_type": "execute_result"
    }
   ],
   "source": [
    "df['productName'].apply(lambda x: len(x.split(' '))).sum()"
   ]
  },
  {
   "cell_type": "code",
   "execution_count": 9,
   "metadata": {},
   "outputs": [],
   "source": [
    "x = df.productName\n",
    "y = df.productClass\n",
    "X_train, X_test, y_train, y_test = train_test_split(x, y, test_size=0.3, random_state = 42)"
   ]
  },
  {
   "cell_type": "code",
   "execution_count": 10,
   "metadata": {},
   "outputs": [
    {
     "data": {
      "text/plain": [
       "Pipeline(memory=None,\n",
       "         steps=[('vect',\n",
       "                 CountVectorizer(analyzer='word', binary=False,\n",
       "                                 decode_error='strict',\n",
       "                                 dtype=<class 'numpy.int64'>, encoding='utf-8',\n",
       "                                 input='content', lowercase=True, max_df=1.0,\n",
       "                                 max_features=None, min_df=1,\n",
       "                                 ngram_range=(1, 1), preprocessor=None,\n",
       "                                 stop_words=None, strip_accents=None,\n",
       "                                 token_pattern='(?u)\\\\b\\\\w\\\\w+\\\\b',\n",
       "                                 tokenizer=None, vocabulary=Non...\n",
       "                ('clf',\n",
       "                 SGDClassifier(alpha=0.001, average=False, class_weight=None,\n",
       "                               early_stopping=False, epsilon=0.1, eta0=0.0,\n",
       "                               fit_intercept=True, l1_ratio=0.15,\n",
       "                               learning_rate='optimal', loss='hinge',\n",
       "                               max_iter=5, n_iter_no_change=5, n_jobs=None,\n",
       "                               penalty='l2', power_t=0.5, random_state=42,\n",
       "                               shuffle=True, tol=None, validation_fraction=0.1,\n",
       "                               verbose=0, warm_start=False))],\n",
       "         verbose=False)"
      ]
     },
     "execution_count": 10,
     "metadata": {},
     "output_type": "execute_result"
    }
   ],
   "source": [
    "from sklearn.linear_model import SGDClassifier\n",
    "from sklearn.pipeline import Pipeline\n",
    "from sklearn.feature_extraction.text import TfidfTransformer\n",
    "sgd = Pipeline([('vect', CountVectorizer()),\n",
    "                ('tfidf', TfidfTransformer()),\n",
    "                ('clf', SGDClassifier(loss='hinge', penalty='l2',alpha=1e-3, random_state=42, max_iter=5, tol=None)),\n",
    "               ])\n",
    "sgd.fit(X_train, y_train)"
   ]
  },
  {
   "cell_type": "code",
   "execution_count": 11,
   "metadata": {},
   "outputs": [
    {
     "name": "stdout",
     "output_type": "stream",
     "text": [
      "accuracy = 0.8\n",
      "                 precision    recall  f1-score   support\n",
      "\n",
      "        Shampoo       1.00      0.50      0.67         2\n",
      "    Conditioner       1.00      0.40      0.57         5\n",
      "       Hair Oil       0.00      0.00      0.00         0\n",
      "      Hair Mask       1.00      1.00      1.00         2\n",
      "     Hair Serum       0.92      0.65      0.76        17\n",
      "      Face Wash       0.71      0.83      0.77         6\n",
      "      Face Mask       1.00      1.00      1.00         4\n",
      "     Face Cream       0.60      1.00      0.75         6\n",
      "     Face Serum       1.00      1.00      1.00         1\n",
      "     Face Scrub       1.00      1.00      1.00         2\n",
      "     Face Toner       1.00      0.25      0.40         4\n",
      "       Face Gel       1.00      1.00      1.00         2\n",
      "Face Sheet Mask       0.57      0.80      0.67         5\n",
      "     Skin Combo       0.67      1.00      0.80         6\n",
      "     Face Combo       1.00      1.00      1.00         3\n",
      "     Hair Combo       1.00      1.00      1.00         3\n",
      "    Body Butter       1.00      0.67      0.80         3\n",
      "      Body Wash       0.50      1.00      0.67         1\n",
      "    Body Lotion       1.00      1.00      1.00         8\n",
      "     Body Scrub       0.00      0.00      0.00         0\n",
      "\n",
      "       accuracy                           0.80        80\n",
      "      macro avg       0.80      0.75      0.74        80\n",
      "   weighted avg       0.87      0.80      0.80        80\n",
      "\n",
      "Wall time: 17.2 ms\n"
     ]
    },
    {
     "name": "stderr",
     "output_type": "stream",
     "text": [
      "C:\\Users\\tulik\\anaconda3\\lib\\site-packages\\sklearn\\metrics\\_classification.py:1272: UndefinedMetricWarning: Recall and F-score are ill-defined and being set to 0.0 in labels with no true samples. Use `zero_division` parameter to control this behavior.\n",
      "  _warn_prf(average, modifier, msg_start, len(result))\n"
     ]
    }
   ],
   "source": [
    "%%time\n",
    "from sklearn.metrics import accuracy_score, classification_report, confusion_matrix\n",
    "y_pred = sgd.predict(X_test)\n",
    "\n",
    "print('accuracy = %s' % accuracy_score(y_pred, y_test))\n",
    "print(classification_report(y_test, y_pred,target_names=classes))\n",
    "#print(confusion_matrix(y_test,y_pred))"
   ]
  },
  {
   "cell_type": "code",
   "execution_count": 14,
   "metadata": {},
   "outputs": [
    {
     "data": {
      "text/plain": [
       "array(['Hair Oil'], dtype='<U15')"
      ]
     },
     "execution_count": 14,
     "metadata": {},
     "output_type": "execute_result"
    }
   ],
   "source": [
    "input='Mamaearth Onion Hair Oil'\n",
    "input=[input]\n",
    "sgd.predict(input)"
   ]
  },
  {
   "cell_type": "markdown",
   "metadata": {},
   "source": [
    "# Key Ingredient Identifier"
   ]
  },
  {
   "cell_type": "code",
   "execution_count": 15,
   "metadata": {},
   "outputs": [
    {
     "data": {
      "text/html": [
       "<div>\n",
       "<style scoped>\n",
       "    .dataframe tbody tr th:only-of-type {\n",
       "        vertical-align: middle;\n",
       "    }\n",
       "\n",
       "    .dataframe tbody tr th {\n",
       "        vertical-align: top;\n",
       "    }\n",
       "\n",
       "    .dataframe thead th {\n",
       "        text-align: right;\n",
       "    }\n",
       "</style>\n",
       "<table border=\"1\" class=\"dataframe\">\n",
       "  <thead>\n",
       "    <tr style=\"text-align: right;\">\n",
       "      <th></th>\n",
       "      <th>productName</th>\n",
       "      <th>productIngredient</th>\n",
       "    </tr>\n",
       "  </thead>\n",
       "  <tbody>\n",
       "    <tr>\n",
       "      <th>0</th>\n",
       "      <td>Tea Tree Facewash for acne &amp; pimples, 100ml</td>\n",
       "      <td>Neem</td>\n",
       "    </tr>\n",
       "    <tr>\n",
       "      <th>1</th>\n",
       "      <td>Anti Hair Fall Kit for complete hair care</td>\n",
       "      <td>Bhringraj Oil</td>\n",
       "    </tr>\n",
       "    <tr>\n",
       "      <th>2</th>\n",
       "      <td>Argan Hair Mask with Argan, Avocado Oil, and M...</td>\n",
       "      <td>Argan Oil</td>\n",
       "    </tr>\n",
       "    <tr>\n",
       "      <th>3</th>\n",
       "      <td>Ubtan Bamboo Sheet Mask with Turmeric &amp; Saffro...</td>\n",
       "      <td>Turmeric</td>\n",
       "    </tr>\n",
       "    <tr>\n",
       "      <th>4</th>\n",
       "      <td>Niacinamide Bamboo Sheet Mask with Niacinamide...</td>\n",
       "      <td>Niacinamide</td>\n",
       "    </tr>\n",
       "  </tbody>\n",
       "</table>\n",
       "</div>"
      ],
      "text/plain": [
       "                                         productName productIngredient\n",
       "0        Tea Tree Facewash for acne & pimples, 100ml              Neem\n",
       "1          Anti Hair Fall Kit for complete hair care     Bhringraj Oil\n",
       "2  Argan Hair Mask with Argan, Avocado Oil, and M...         Argan Oil\n",
       "3  Ubtan Bamboo Sheet Mask with Turmeric & Saffro...          Turmeric\n",
       "4  Niacinamide Bamboo Sheet Mask with Niacinamide...       Niacinamide"
      ]
     },
     "execution_count": 15,
     "metadata": {},
     "output_type": "execute_result"
    }
   ],
   "source": [
    "df2=pd.read_csv('main_ingredient.csv')\n",
    "df2.head()"
   ]
  },
  {
   "cell_type": "code",
   "execution_count": 16,
   "metadata": {},
   "outputs": [
    {
     "data": {
      "text/plain": [
       "array(['Neem', 'Bhringraj Oil', 'Argan Oil', 'Turmeric', 'Niacinamide',\n",
       "       'Red Onion', 'Onion Seed Oil', 'Walnut Beads',\n",
       "       'Apple Cider Vinegar', 'Vitamin C', 'Onion Seed Extract',\n",
       "       'Aloe Vera', 'Cucumber Extract', 'Tea Tree Oil', 'Onion Oil',\n",
       "       'Carrot Seed Oil', 'Saffron', 'Tea Tree', 'Charcoal', 'Coffee',\n",
       "       'Fermented Rice Water', 'Rice Bran', 'Retinol', 'Onion',\n",
       "       'Hyaluronic Acid', 'Rice Water', 'Rose Water ',\n",
       "       'Activated Charcoal ', 'Kesar', 'Rose Water', 'Cocoa', 'Bhringraj',\n",
       "       'Lime', 'Activated Charcoal', 'Theobroma Cocoa Seed Butter',\n",
       "       'Magnesium', 'Castor Oil', 'Biotin', 'Pomegranate Oil',\n",
       "       'Korean Red Ginseng', 'Cocoa Butter', 'Milk Protein',\n",
       "       'Coconut Oil', 'Cucumber'], dtype=object)"
      ]
     },
     "execution_count": 16,
     "metadata": {},
     "output_type": "execute_result"
    }
   ],
   "source": [
    "df2.productIngredient.unique()"
   ]
  },
  {
   "cell_type": "code",
   "execution_count": 22,
   "metadata": {},
   "outputs": [
    {
     "data": {
      "text/plain": [
       "<AxesSubplot:>"
      ]
     },
     "execution_count": 22,
     "metadata": {},
     "output_type": "execute_result"
    },
    {
     "data": {
      "image/png": "[encoded data removed]",
      "text/plain": [
       "<Figure size 720x288 with 1 Axes>"
      ]
     },
     "metadata": {
      "needs_background": "light"
     },
     "output_type": "display_data"
    }
   ],
   "source": [
    "ingredients=['Neem', 'Argan Oil', 'Turmeric', 'Niacinamide',\n",
    "       'Red Onion', 'Onion Seed Oil', 'Walnut Beads',\n",
    "       'Apple Cider Vinegar', 'Vitamin C',\n",
    "       'Aloe Vera', 'Tea Tree Oil', 'Onion Oil',\n",
    "        'Saffron', 'Tea Tree', 'Charcoal', 'Coffee',\n",
    "       'Fermented Rice Water', 'Retinol', 'Onion',\n",
    "       'Hyaluronic Acid', 'Rice Water',\n",
    "       'Activated Charcoal ', 'Cocoa', 'Bhringraj',\n",
    "        'Activated Charcoal', 'Biotin',\n",
    "        'Cucumber']\n",
    "plt.figure(figsize=(10,4))\n",
    "df2.productIngredient.value_counts().plot(kind='bar')"
   ]
  },
  {
   "cell_type": "code",
   "execution_count": 18,
   "metadata": {},
   "outputs": [],
   "source": [
    "df2['productName'] = df2['productName'].apply(clean_text)"
   ]
  },
  {
   "cell_type": "code",
   "execution_count": 19,
   "metadata": {},
   "outputs": [],
   "source": [
    "x2 = df2.productName\n",
    "y2 = df2.productIngredient\n",
    "x2_train, x2_test, y2_train, y2_test = train_test_split(x2, y2, test_size=0.3, random_state = 42)"
   ]
  },
  {
   "cell_type": "code",
   "execution_count": 20,
   "metadata": {},
   "outputs": [
    {
     "data": {
      "text/plain": [
       "Pipeline(memory=None,\n",
       "         steps=[('vect',\n",
       "                 CountVectorizer(analyzer='word', binary=False,\n",
       "                                 decode_error='strict',\n",
       "                                 dtype=<class 'numpy.int64'>, encoding='utf-8',\n",
       "                                 input='content', lowercase=True, max_df=1.0,\n",
       "                                 max_features=None, min_df=1,\n",
       "                                 ngram_range=(1, 1), preprocessor=None,\n",
       "                                 stop_words=None, strip_accents=None,\n",
       "                                 token_pattern='(?u)\\\\b\\\\w\\\\w+\\\\b',\n",
       "                                 tokenizer=None, vocabulary=Non...\n",
       "                ('clf',\n",
       "                 SGDClassifier(alpha=0.001, average=False, class_weight=None,\n",
       "                               early_stopping=False, epsilon=0.1, eta0=0.0,\n",
       "                               fit_intercept=True, l1_ratio=0.15,\n",
       "                               learning_rate='optimal', loss='hinge',\n",
       "                               max_iter=5, n_iter_no_change=5, n_jobs=None,\n",
       "                               penalty='l2', power_t=0.5, random_state=42,\n",
       "                               shuffle=True, tol=None, validation_fraction=0.1,\n",
       "                               verbose=0, warm_start=False))],\n",
       "         verbose=False)"
      ]
     },
     "execution_count": 20,
     "metadata": {},
     "output_type": "execute_result"
    }
   ],
   "source": [
    "sgd2 = Pipeline([('vect', CountVectorizer()),\n",
    "                ('tfidf', TfidfTransformer()),\n",
    "                ('clf', SGDClassifier(loss='hinge', penalty='l2',alpha=1e-3, random_state=42, max_iter=5, tol=None)),\n",
    "               ])\n",
    "sgd2.fit(x2_train, y2_train)"
   ]
  },
  {
   "cell_type": "code",
   "execution_count": 23,
   "metadata": {},
   "outputs": [
    {
     "name": "stdout",
     "output_type": "stream",
     "text": [
      "accuracy = 0.775\n",
      "                      precision    recall  f1-score   support\n",
      "\n",
      "                Neem       0.00      0.00      0.00         1\n",
      "           Argan Oil       0.50      0.67      0.57         3\n",
      "            Turmeric       1.00      1.00      1.00         3\n",
      "         Niacinamide       1.00      1.00      1.00         3\n",
      "           Red Onion       1.00      1.00      1.00         1\n",
      "      Onion Seed Oil       0.00      0.00      0.00         2\n",
      "        Walnut Beads       1.00      1.00      1.00         1\n",
      " Apple Cider Vinegar       0.00      0.00      0.00         0\n",
      "           Vitamin C       0.00      0.00      0.00         1\n",
      "           Aloe Vera       0.80      1.00      0.89         4\n",
      "        Tea Tree Oil       1.00      1.00      1.00         1\n",
      "           Onion Oil       0.00      0.00      0.00         0\n",
      "             Saffron       0.00      0.00      0.00         1\n",
      "            Tea Tree       1.00      0.50      0.67         2\n",
      "            Charcoal       0.40      0.67      0.50         3\n",
      "              Coffee       1.00      1.00      1.00         1\n",
      "Fermented Rice Water       0.83      0.71      0.77         7\n",
      "             Retinol       0.00      0.00      0.00         0\n",
      "               Onion       1.00      1.00      1.00         2\n",
      "     Hyaluronic Acid       1.00      1.00      1.00         3\n",
      "          Rice Water       0.00      0.00      0.00         1\n",
      " Activated Charcoal        1.00      0.33      0.50         3\n",
      "               Cocoa       1.00      0.67      0.80         6\n",
      "           Bhringraj       0.00      0.00      0.00         1\n",
      "  Activated Charcoal       0.69      0.82      0.75        11\n",
      "              Biotin       0.90      1.00      0.95        18\n",
      "            Cucumber       1.00      1.00      1.00         1\n",
      "\n",
      "            accuracy                           0.78        80\n",
      "           macro avg       0.60      0.57      0.57        80\n",
      "        weighted avg       0.78      0.78      0.76        80\n",
      "\n",
      "Wall time: 17.3 ms\n"
     ]
    },
    {
     "name": "stderr",
     "output_type": "stream",
     "text": [
      "C:\\Users\\tulik\\anaconda3\\lib\\site-packages\\sklearn\\metrics\\_classification.py:1272: UndefinedMetricWarning: Precision and F-score are ill-defined and being set to 0.0 in labels with no predicted samples. Use `zero_division` parameter to control this behavior.\n",
      "  _warn_prf(average, modifier, msg_start, len(result))\n",
      "C:\\Users\\tulik\\anaconda3\\lib\\site-packages\\sklearn\\metrics\\_classification.py:1272: UndefinedMetricWarning: Recall and F-score are ill-defined and being set to 0.0 in labels with no true samples. Use `zero_division` parameter to control this behavior.\n",
      "  _warn_prf(average, modifier, msg_start, len(result))\n"
     ]
    }
   ],
   "source": [
    "%%time\n",
    "\n",
    "y2_pred = sgd2.predict(x2_test)\n",
    "\n",
    "print('accuracy = %s' % accuracy_score(y2_pred, y2_test))\n",
    "print(classification_report(y2_test, y2_pred,target_names=ingredients))\n",
    "#print(confusion_matrix(y_test,y_pred))"
   ]
  },
  {
   "cell_type": "code",
   "execution_count": 24,
   "metadata": {},
   "outputs": [
    {
     "data": {
      "text/plain": [
       "array(['Onion Seed Extract'], dtype='<U20')"
      ]
     },
     "execution_count": 24,
     "metadata": {},
     "output_type": "execute_result"
    }
   ],
   "source": [
    "input2='Mamaearth Onion Hair Oil'\n",
    "input2=[input2]\n",
    "sgd2.predict(input2)"
   ]
  }
 ],
 "metadata": {
  "kernelspec": {
   "display_name": "Python 3",
   "language": "python",
   "name": "python3"
  },
  "language_info": {
   "codemirror_mode": {
    "name": "ipython",
    "version": 3
   },
   "file_extension": ".py",
   "mimetype": "text/x-python",
   "name": "python",
   "nbconvert_exporter": "python",
   "pygments_lexer": "ipython3",
   "version": "3.7.6"
  }
 },
 "nbformat": 4,
 "nbformat_minor": 4
}
